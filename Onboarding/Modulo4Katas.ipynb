{
 "cells": [
  {
   "cell_type": "markdown",
   "metadata": {},
   "source": [
    "# Ejercicio 1: Transformar cadenas"
   ]
  },
  {
   "cell_type": "code",
   "execution_count": 38,
   "metadata": {},
   "outputs": [
    {
     "name": "stdout",
     "output_type": "stream",
     "text": [
      "['Interesting facts about the Moon', \"The Moon is Earth's only satellite\", 'There are several interesting facts about the Moon and how it affects life here on Earth', '\\nOn average, the Moon moves 4cm away from the Earth every year', 'This yearly drift is not significant enough to cause immediate effects on Earth', 'The highest daylight temperature of the Moon is 127 C.']\n"
     ]
    }
   ],
   "source": [
    "text = \"\"\"Interesting facts about the Moon. The Moon is Earth's only satellite. There are several interesting facts about the Moon and how it affects life here on Earth. \n",
    "On average, the Moon moves 4cm away from the Earth every year. This yearly drift is not significant enough to cause immediate effects on Earth. The highest daylight temperature of the Moon is 127 C.\"\"\"\n",
    "\n",
    "# Dividir cada oración para trabajar con su contenido\n",
    "\n",
    "text_divided = text.split(\". \")\n",
    "\n",
    "print(text_divided)\n",
    "\n",
    "# Definición de palabras clave\n",
    "\n",
    "keywords = [\"average\",\"temperature\",\"distance\"]\n",
    "\n"
   ]
  },
  {
   "cell_type": "code",
   "execution_count": 39,
   "metadata": {},
   "outputs": [
    {
     "name": "stdout",
     "output_type": "stream",
     "text": [
      "\n",
      "On average, the Moon moves 4cm away from the Earth every year\n",
      "The highest daylight temperature of the Moon is 127 C.\n"
     ]
    }
   ],
   "source": [
    "# Ciclo for para recorrer cadena\n",
    "\n",
    "for word in text_divided:\n",
    "    for keyword in keywords:\n",
    "        if keyword in word:\n",
    "            print(word)\n",
    "            break"
   ]
  },
  {
   "cell_type": "code",
   "execution_count": 40,
   "metadata": {},
   "outputs": [
    {
     "name": "stdout",
     "output_type": "stream",
     "text": [
      "The highest daylight temperature of the Moon is 127 Celsius.\n"
     ]
    }
   ],
   "source": [
    "# Ciclo para cambiar C a Celsius\n",
    "\n",
    "for word in text_divided:\n",
    "    if \"C\" in word:\n",
    "        print(word.replace(\"C\",\"Celsius\"))"
   ]
  },
  {
   "cell_type": "markdown",
   "metadata": {},
   "source": [
    "# Ejercicio 2: Formateando cadenas"
   ]
  },
  {
   "cell_type": "code",
   "execution_count": 41,
   "metadata": {},
   "outputs": [],
   "source": [
    "# Datos con los que vas a trabajar\n",
    "# name = \"Moon\"\n",
    "# gravity = 0.00162 # in kms\n",
    "# planet = \"Earth\"\n",
    "\n",
    "\n",
    "# Otros datos de prueba\n",
    "\n",
    "planet = 'Mars '\n",
    "gravity  = 0.00143\n",
    "name = 'Ganymede'"
   ]
  },
  {
   "cell_type": "code",
   "execution_count": 42,
   "metadata": {},
   "outputs": [],
   "source": [
    "# Creación de título\n",
    "title = f\"Gravity of {name} and {planet}\".title()"
   ]
  },
  {
   "cell_type": "code",
   "execution_count": 43,
   "metadata": {},
   "outputs": [
    {
     "name": "stdout",
     "output_type": "stream",
     "text": [
      "\n",
      "Name of the planet: Mars \n",
      "Gravity on Mars : 1.4300000000000002 m/s^2\n",
      "\n"
     ]
    }
   ],
   "source": [
    "# Creando plantilla\n",
    "\n",
    "facts = f\"\"\"\n",
    "Name of the planet: {planet}\n",
    "Gravity on {planet}: {gravity*1000} m/s^2\n",
    "\"\"\"\n",
    "\n",
    "print(facts)"
   ]
  },
  {
   "cell_type": "code",
   "execution_count": 44,
   "metadata": {},
   "outputs": [
    {
     "name": "stdout",
     "output_type": "stream",
     "text": [
      "Gravity Of Ganymede And Mars \n",
      "\n",
      "Name of the planet: Mars \n",
      "Gravity on Mars : 1.4300000000000002 m/s^2\n",
      "\n"
     ]
    }
   ],
   "source": [
    "# Unión\n",
    "\n",
    "template = \"{}\\n{}\".format(title,facts)\n",
    "\n",
    "print(template)"
   ]
  }
 ],
 "metadata": {
  "interpreter": {
   "hash": "1c8694d27ea63265800c6930a33ab6a53b0a34831c2e1d4cb43d58639ee74489"
  },
  "kernelspec": {
   "display_name": "Python 3.10.1 64-bit",
   "language": "python",
   "name": "python3"
  },
  "language_info": {
   "codemirror_mode": {
    "name": "ipython",
    "version": 3
   },
   "file_extension": ".py",
   "mimetype": "text/x-python",
   "name": "python",
   "nbconvert_exporter": "python",
   "pygments_lexer": "ipython3",
   "version": "3.10.1"
  },
  "orig_nbformat": 4
 },
 "nbformat": 4,
 "nbformat_minor": 2
}
