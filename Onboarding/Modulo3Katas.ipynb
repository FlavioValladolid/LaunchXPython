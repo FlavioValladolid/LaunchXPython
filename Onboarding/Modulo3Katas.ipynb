{
 "cells": [
  {
   "cell_type": "markdown",
   "metadata": {},
   "source": [
    "# Ejercicio - Escribir declaraciones `if`,`else`, y `elif`."
   ]
  },
  {
   "cell_type": "markdown",
   "metadata": {},
   "source": [
    "### Problema 1"
   ]
  },
  {
   "cell_type": "code",
   "execution_count": 1,
   "metadata": {},
   "outputs": [
    {
     "name": "stdout",
     "output_type": "stream",
     "text": [
      "Don't Worry\n"
     ]
    }
   ],
   "source": [
    "velocidad_asteroide = 9 # km/s\n",
    "\n",
    "if velocidad_asteroide >= 25:\n",
    "    print(\"Cuidado, se acerca un asteroide\")\n",
    "else:\n",
    "    print(\"Don't Worry\")\n"
   ]
  },
  {
   "cell_type": "markdown",
   "metadata": {},
   "source": [
    "### Problema 2"
   ]
  },
  {
   "cell_type": "code",
   "execution_count": 6,
   "metadata": {},
   "outputs": [
    {
     "name": "stdout",
     "output_type": "stream",
     "text": [
      " ¡Hay uno que se dirige a la tierra ahora a una velocidad de 21 km/s!\n"
     ]
    }
   ],
   "source": [
    "velocidad_asteroide = 21\n",
    "\n",
    "if velocidad_asteroide > 20:\n",
    "    print(\" ¡Hay uno que se dirige a la tierra ahora a una velocidad de \" + str(velocidad_asteroide) + \" km/s!\")\n",
    "elif velocidad_asteroide == 20:\n",
    "    print(\"Mira un rayo en el cielo\")\n",
    "else:\n",
    "    print(\"No hay nada\")\n"
   ]
  },
  {
   "cell_type": "markdown",
   "metadata": {},
   "source": [
    "# Ejercicio: Uso de operadores `and` y `or`\n",
    "\n",
    "### Problema 3"
   ]
  },
  {
   "cell_type": "code",
   "execution_count": 8,
   "metadata": {},
   "outputs": [
    {
     "name": "stdout",
     "output_type": "stream",
     "text": [
      "No pasa nada\n"
     ]
    }
   ],
   "source": [
    "velocidad_asteroide = 10 # km/s\n",
    "dimension_asteroide = 2 # m\n",
    "\n",
    "if velocidad_asteroide > 25 and dimension_asteroide > 25 and dimension_asteroide < 1000:\n",
    "    print(\"Se acerca un asteroide bastante peligroso\")\n",
    "elif velocidad_asteroide > 25:\n",
    "    print(\"Se acerca un asteroide, cuidado\")\n",
    "elif velocidad_asteroide > 20 and velocidad_asteroide < 25:\n",
    "    print(\"Observa, un asteroide\")\n",
    "else:\n",
    "    print(\"No pasa nada\")\n",
    "\n"
   ]
  }
 ],
 "metadata": {
  "interpreter": {
   "hash": "1c8694d27ea63265800c6930a33ab6a53b0a34831c2e1d4cb43d58639ee74489"
  },
  "kernelspec": {
   "display_name": "Python 3.10.1 64-bit",
   "language": "python",
   "name": "python3"
  },
  "language_info": {
   "codemirror_mode": {
    "name": "ipython",
    "version": 3
   },
   "file_extension": ".py",
   "mimetype": "text/x-python",
   "name": "python",
   "nbconvert_exporter": "python",
   "pygments_lexer": "ipython3",
   "version": "3.10.1"
  },
  "orig_nbformat": 4
 },
 "nbformat": 4,
 "nbformat_minor": 2
}
