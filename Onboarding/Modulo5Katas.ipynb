{
 "cells": [
  {
   "cell_type": "markdown",
   "metadata": {},
   "source": [
    "# Ejercicio 1 - Utilizar operadores aritméticos\n"
   ]
  },
  {
   "cell_type": "code",
   "execution_count": 10,
   "metadata": {},
   "outputs": [
    {
     "name": "stdout",
     "output_type": "stream",
     "text": [
      "628949330 km\n",
      "390577533.93 miles\n"
     ]
    }
   ],
   "source": [
    "# Calcular distancias entre dos planetas\n",
    "\n",
    "distance_Earth = 149597870 # km\n",
    "distance_Jupiter = 778547200 # km\n",
    "\n",
    "def Distance(p1,p2):\n",
    "    return abs(p1 - p2)\n",
    "\n",
    "distance_between_planets = Distance(distance_Jupiter,distance_Earth)\n",
    "\n",
    "print(f\"\"\"{distance_between_planets} km\n",
    "{distance_between_planets*0.621} miles\"\"\")"
   ]
  },
  {
   "cell_type": "markdown",
   "metadata": {},
   "source": [
    "# Ejercicio 2: convierte cadenas en números y usa valores absolutos\n"
   ]
  },
  {
   "cell_type": "code",
   "execution_count": 11,
   "metadata": {},
   "outputs": [
    {
     "name": "stdout",
     "output_type": "stream",
     "text": [
      "0\n"
     ]
    }
   ],
   "source": [
    "# Crear una aplicación para trabajar con números y entrada de usuario\n",
    "\n",
    "planet_1 = int(input(\"How far is the first planet?\"))\n",
    "planet_2 = int(input(\"How far is the second planet?\"))\n",
    "\n",
    "print(Distance(planet_1,planet_2))"
   ]
  }
 ],
 "metadata": {
  "interpreter": {
   "hash": "1c8694d27ea63265800c6930a33ab6a53b0a34831c2e1d4cb43d58639ee74489"
  },
  "kernelspec": {
   "display_name": "Python 3.10.1 64-bit",
   "language": "python",
   "name": "python3"
  },
  "language_info": {
   "codemirror_mode": {
    "name": "ipython",
    "version": 3
   },
   "file_extension": ".py",
   "mimetype": "text/x-python",
   "name": "python",
   "nbconvert_exporter": "python",
   "pygments_lexer": "ipython3",
   "version": "3.10.1"
  },
  "orig_nbformat": 4
 },
 "nbformat": 4,
 "nbformat_minor": 2
}
