{
 "cells": [
  {
   "cell_type": "markdown",
   "metadata": {},
   "source": [
    "# Ejercicio1: Crear y usar listas de Python\n",
    "\n",
    "### Ejercicio: Usar listas para almacenar nombres de planetas\n",
    "\n"
   ]
  },
  {
   "cell_type": "code",
   "execution_count": 3,
   "metadata": {},
   "outputs": [
    {
     "name": "stdout",
     "output_type": "stream",
     "text": [
      "Pluto\n"
     ]
    }
   ],
   "source": [
    "planets = [ \"Mercury\", \"Venus\", \"Earth\", \"Mars\", \"Jupiter\", \"Saturn\", \"Uranus\", \"Neptune\"]\n",
    "\n",
    "planets.append(\"Pluto\")\n",
    "\n",
    "print(planets[-1])"
   ]
  },
  {
   "cell_type": "markdown",
   "metadata": {},
   "source": [
    "# Ejercicio 2: Trabajando con datos de una lista\n",
    "\n",
    "### Usar slices para recuperar partes de una lista\n"
   ]
  },
  {
   "cell_type": "code",
   "execution_count": 4,
   "metadata": {},
   "outputs": [
    {
     "name": "stdout",
     "output_type": "stream",
     "text": [
      "1\n"
     ]
    }
   ],
   "source": [
    "# Solicita al usuario el nombre de un planeta\n",
    "New_Planet = input(\"What is the name of the planet? (using capital letter at the beginning)\")\n",
    "\n",
    "# Busca el planeta en la lista\n",
    "\n",
    "looking_for_planet = planets.index(New_Planet)\n",
    "\n",
    "print(looking_for_planet)\n"
   ]
  },
  {
   "cell_type": "code",
   "execution_count": 6,
   "metadata": {},
   "outputs": [
    {
     "name": "stdout",
     "output_type": "stream",
     "text": [
      "Planets closer than Venus\n",
      "['Mercury']\n"
     ]
    }
   ],
   "source": [
    "# Muestra los planetas más cercanos al sol\n",
    "\n",
    "print(\"Planets closer than {}\".format(New_Planet))\n",
    "print(planets[0:looking_for_planet])"
   ]
  },
  {
   "cell_type": "code",
   "execution_count": 8,
   "metadata": {},
   "outputs": [
    {
     "name": "stdout",
     "output_type": "stream",
     "text": [
      "Planets further than Venus\n",
      "['Earth', 'Mars', 'Jupiter', 'Saturn', 'Uranus', 'Neptune', 'Pluto']\n"
     ]
    }
   ],
   "source": [
    "# Muestra los planetas más lejanos al sol\n",
    "\n",
    "print(\"Planets further than {}\".format(New_Planet))\n",
    "print(planets[looking_for_planet+1:])"
   ]
  }
 ],
 "metadata": {
  "interpreter": {
   "hash": "1c8694d27ea63265800c6930a33ab6a53b0a34831c2e1d4cb43d58639ee74489"
  },
  "kernelspec": {
   "display_name": "Python 3.10.1 64-bit",
   "language": "python",
   "name": "python3"
  },
  "language_info": {
   "codemirror_mode": {
    "name": "ipython",
    "version": 3
   },
   "file_extension": ".py",
   "mimetype": "text/x-python",
   "name": "python",
   "nbconvert_exporter": "python",
   "pygments_lexer": "ipython3",
   "version": "3.10.1"
  },
  "orig_nbformat": 4
 },
 "nbformat": 4,
 "nbformat_minor": 2
}
